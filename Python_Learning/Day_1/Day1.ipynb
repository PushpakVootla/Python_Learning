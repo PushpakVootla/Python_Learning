{
 "cells": [
  {
   "cell_type": "code",
   "execution_count": 1,
   "id": "1cb26829-07f7-439e-ae6e-e7ad928d1eea",
   "metadata": {},
   "outputs": [
    {
     "name": "stdout",
     "output_type": "stream",
     "text": [
      "hello\n"
     ]
    }
   ],
   "source": [
    "print (\"hello\")\n"
   ]
  },
  {
   "cell_type": "code",
   "execution_count": 2,
   "id": "640f1f15-34e7-4c70-aac8-f72cdf622e99",
   "metadata": {},
   "outputs": [
    {
     "name": "stdout",
     "output_type": "stream",
     "text": [
      "4\n"
     ]
    }
   ],
   "source": [
    "print(1+3)\n",
    "\n"
   ]
  },
  {
   "cell_type": "code",
   "execution_count": 3,
   "id": "8892a75b-8b0b-4ebe-9912-5550852be7b1",
   "metadata": {},
   "outputs": [
    {
     "name": "stdout",
     "output_type": "stream",
     "text": [
      "iam prem. \n",
      " i'm an foodie.\n"
     ]
    }
   ],
   "source": [
    "print(\"iam prem. \\n i'm an foodie.\")"
   ]
  },
  {
   "cell_type": "code",
   "execution_count": 6,
   "id": "4a92c0cf-d98b-4ec7-88ec-074bbce50316",
   "metadata": {},
   "outputs": [
    {
     "name": "stdout",
     "output_type": "stream",
     "text": [
      "vootla pushpak\n",
      "personal\n"
     ]
    }
   ],
   "source": [
    "name=\"vootla pushpak\"\n",
    "company=\"personal\"\n",
    "print(name)\n",
    "print(company)"
   ]
  },
  {
   "cell_type": "code",
   "execution_count": 7,
   "id": "5894f4ce-4294-4922-84fc-50c2d3147812",
   "metadata": {},
   "outputs": [
    {
     "data": {
      "text/plain": [
       "str"
      ]
     },
     "execution_count": 7,
     "metadata": {},
     "output_type": "execute_result"
    }
   ],
   "source": [
    "type(\"\")"
   ]
  },
  {
   "cell_type": "code",
   "execution_count": 8,
   "id": "c6dd591b-6bf7-4b0d-80e7-9768be797549",
   "metadata": {},
   "outputs": [
    {
     "data": {
      "text/plain": [
       "float"
      ]
     },
     "execution_count": 8,
     "metadata": {},
     "output_type": "execute_result"
    }
   ],
   "source": [
    "decimal_num=2.5\n",
    "type(decimal_num)"
   ]
  },
  {
   "cell_type": "code",
   "execution_count": 10,
   "id": "5ea4a902-6375-4b79-ac37-a7e23a09c46a",
   "metadata": {},
   "outputs": [
    {
     "data": {
      "text/plain": [
       "Ellipsis"
      ]
     },
     "execution_count": 10,
     "metadata": {},
     "output_type": "execute_result"
    }
   ],
   "source": [
    "# Reserverd Keywords\n",
    "\n",
    "...\n",
    "\n",
    "int, float, len,complex,bool,str\n",
    "...\n"
   ]
  },
  {
   "cell_type": "code",
   "execution_count": 14,
   "id": "5827cb3e-bffa-4b64-b14c-6602a9c0733f",
   "metadata": {},
   "outputs": [
    {
     "data": {
      "text/plain": [
       "True"
      ]
     },
     "execution_count": 14,
     "metadata": {},
     "output_type": "execute_result"
    }
   ],
   "source": [
    "#type casting\n",
    "bool(1)\n"
   ]
  },
  {
   "cell_type": "code",
   "execution_count": 15,
   "id": "a32b7d10-718b-4335-81f3-55f5ea40b863",
   "metadata": {},
   "outputs": [
    {
     "data": {
      "text/plain": [
       "23"
      ]
     },
     "execution_count": 15,
     "metadata": {},
     "output_type": "execute_result"
    }
   ],
   "source": [
    "int(\"23\")\n"
   ]
  },
  {
   "cell_type": "code",
   "execution_count": 16,
   "id": "3698aeb3-70e2-4ac7-925b-ee8c665badfe",
   "metadata": {},
   "outputs": [
    {
     "data": {
      "text/plain": [
       "int"
      ]
     },
     "execution_count": 16,
     "metadata": {},
     "output_type": "execute_result"
    }
   ],
   "source": [
    "type(int(\"23\"))"
   ]
  },
  {
   "cell_type": "markdown",
   "id": "b3be3e65-fa74-45f3-bbaf-cb978bc8dd97",
   "metadata": {},
   "source": [
    "# Dynamic Typing\n",
    "## Not need to define the data types before defining the variables"
   ]
  },
  {
   "cell_type": "code",
   "execution_count": 17,
   "id": "6ddde0b0-576f-4f65-8953-aada8a1588e5",
   "metadata": {},
   "outputs": [
    {
     "data": {
      "text/plain": [
       "1"
      ]
     },
     "execution_count": 17,
     "metadata": {},
     "output_type": "execute_result"
    }
   ],
   "source": [
    "int(1.456)"
   ]
  },
  {
   "cell_type": "code",
   "execution_count": 18,
   "id": "e78e0c56-ddc0-498d-ba4b-93697c182e63",
   "metadata": {},
   "outputs": [
    {
     "data": {
      "text/plain": [
       "1.345"
      ]
     },
     "execution_count": 18,
     "metadata": {},
     "output_type": "execute_result"
    }
   ],
   "source": [
    "float(1.345)\n"
   ]
  },
  {
   "cell_type": "markdown",
   "id": "bbd727fe-c50b-43f1-89ed-abf92f63fedf",
   "metadata": {},
   "source": [
    "# concatecation between different types"
   ]
  },
  {
   "cell_type": "code",
   "execution_count": 19,
   "id": "4d629abe-463b-4291-bd57-53986efe01f3",
   "metadata": {},
   "outputs": [
    {
     "data": {
      "text/plain": [
       "'24'"
      ]
     },
     "execution_count": 19,
     "metadata": {},
     "output_type": "execute_result"
    }
   ],
   "source": [
    "\"2\" + \"4\""
   ]
  },
  {
   "cell_type": "code",
   "execution_count": 20,
   "id": "ff9c159a-f3ee-44bc-bcf9-899633bbf462",
   "metadata": {},
   "outputs": [
    {
     "data": {
      "text/plain": [
       "6"
      ]
     },
     "execution_count": 20,
     "metadata": {},
     "output_type": "execute_result"
    }
   ],
   "source": [
    "int(\"2\") + int(\"4\")"
   ]
  },
  {
   "cell_type": "code",
   "execution_count": 21,
   "id": "afcd2193-ac5e-4245-a000-236b5a21cd54",
   "metadata": {},
   "outputs": [
    {
     "data": {
      "text/plain": [
       "'555'"
      ]
     },
     "execution_count": 21,
     "metadata": {},
     "output_type": "execute_result"
    }
   ],
   "source": [
    "\"5\" * 3"
   ]
  },
  {
   "cell_type": "code",
   "execution_count": null,
   "id": "b03c742e-19cd-4abc-9cb1-6a7a34ab9601",
   "metadata": {},
   "outputs": [],
   "source": []
  }
 ],
 "metadata": {
  "kernelspec": {
   "display_name": "Python 3 (ipykernel)",
   "language": "python",
   "name": "python3"
  },
  "language_info": {
   "codemirror_mode": {
    "name": "ipython",
    "version": 3
   },
   "file_extension": ".py",
   "mimetype": "text/x-python",
   "name": "python",
   "nbconvert_exporter": "python",
   "pygments_lexer": "ipython3",
   "version": "3.10.8"
  }
 },
 "nbformat": 4,
 "nbformat_minor": 5
}
